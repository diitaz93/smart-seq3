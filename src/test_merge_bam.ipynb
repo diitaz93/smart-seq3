{
 "cells": [
  {
   "cell_type": "markdown",
   "id": "cb63fbac",
   "metadata": {},
   "source": [
    "# Merge single-cell `.bam` files\n",
    "Take a small sample of bam files to recreate the `Aligned` and `unmapped` `.bam` files coming from *zUMIs*."
   ]
  },
  {
   "cell_type": "code",
   "execution_count": 1,
   "id": "faf0cce3",
   "metadata": {},
   "outputs": [],
   "source": [
    "import os,sys\n",
    "import pandas as pd\n",
    "import pysam"
   ]
  },
  {
   "cell_type": "markdown",
   "id": "dbf9d935",
   "metadata": {},
   "source": [
    "## Merge Aligned"
   ]
  },
  {
   "cell_type": "code",
   "execution_count": 2,
   "id": "6ae1a967",
   "metadata": {},
   "outputs": [],
   "source": [
    "in_Aligned = '../data/01_SS3_splitted_bams/placa_pepita/Aligned'\n",
    "out_Aligned = '../data/00_SS3_raw_data/placa_pepita/placa_pepita.filtered.tagged.Aligned.out.bam'"
   ]
  },
  {
   "cell_type": "code",
   "execution_count": 3,
   "id": "7a86d40b",
   "metadata": {},
   "outputs": [
    {
     "data": {
      "text/plain": [
       "['../data/01_SS3_splitted_bams/placa_pepita/Aligned/Plate231_MUSL_A5.bam',\n",
       " '../data/01_SS3_splitted_bams/placa_pepita/Aligned/Plate231_MUSL_A3.bam',\n",
       " '../data/01_SS3_splitted_bams/placa_pepita/Aligned/Plate231_MUSL_A6.bam',\n",
       " '../data/01_SS3_splitted_bams/placa_pepita/Aligned/Plate231_MUSL_A4.bam',\n",
       " '../data/01_SS3_splitted_bams/placa_pepita/Aligned/Plate231_MUSL_A9.bam',\n",
       " '../data/01_SS3_splitted_bams/placa_pepita/Aligned/Plate231_MUSL_A8.bam',\n",
       " '../data/01_SS3_splitted_bams/placa_pepita/Aligned/Plate231_MUSL_A7.bam']"
      ]
     },
     "execution_count": 3,
     "metadata": {},
     "output_type": "execute_result"
    }
   ],
   "source": [
    "bams_Aligned = [os.path.join(in_Aligned,file) for file in os.listdir(in_Aligned)]\n",
    "bams_Aligned"
   ]
  },
  {
   "cell_type": "code",
   "execution_count": 4,
   "id": "6b2a2e98",
   "metadata": {},
   "outputs": [
    {
     "name": "stderr",
     "output_type": "stream",
     "text": [
      "[E::idx_find_and_load] Could not retrieve index file for '../data/01_SS3_splitted_bams/placa_pepita/Aligned/Plate231_MUSL_A5.bam'\n"
     ]
    }
   ],
   "source": [
    "Aligned_output = pysam.AlignmentFile(out_Aligned, 'wb',\\\n",
    "                                      template=pysam.AlignmentFile(bams_Aligned[0]))"
   ]
  },
  {
   "cell_type": "code",
   "execution_count": 5,
   "id": "c320db28",
   "metadata": {},
   "outputs": [
    {
     "name": "stderr",
     "output_type": "stream",
     "text": [
      "[E::idx_find_and_load] Could not retrieve index file for '../data/01_SS3_splitted_bams/placa_pepita/Aligned/Plate231_MUSL_A5.bam'\n",
      "[E::idx_find_and_load] Could not retrieve index file for '../data/01_SS3_splitted_bams/placa_pepita/Aligned/Plate231_MUSL_A3.bam'\n",
      "[E::idx_find_and_load] Could not retrieve index file for '../data/01_SS3_splitted_bams/placa_pepita/Aligned/Plate231_MUSL_A6.bam'\n",
      "[E::idx_find_and_load] Could not retrieve index file for '../data/01_SS3_splitted_bams/placa_pepita/Aligned/Plate231_MUSL_A4.bam'\n",
      "[E::idx_find_and_load] Could not retrieve index file for '../data/01_SS3_splitted_bams/placa_pepita/Aligned/Plate231_MUSL_A9.bam'\n",
      "[E::idx_find_and_load] Could not retrieve index file for '../data/01_SS3_splitted_bams/placa_pepita/Aligned/Plate231_MUSL_A8.bam'\n",
      "[E::idx_find_and_load] Could not retrieve index file for '../data/01_SS3_splitted_bams/placa_pepita/Aligned/Plate231_MUSL_A7.bam'\n"
     ]
    }
   ],
   "source": [
    "for bam_file in bams_Aligned:\n",
    "    for read in pysam.AlignmentFile(bam_file):\n",
    "        Aligned_output.write(read)"
   ]
  },
  {
   "cell_type": "code",
   "execution_count": 6,
   "id": "04e36bee",
   "metadata": {},
   "outputs": [],
   "source": [
    "Aligned_output.close()"
   ]
  },
  {
   "cell_type": "markdown",
   "id": "f1993358",
   "metadata": {},
   "source": [
    "## Merge unmapped"
   ]
  },
  {
   "cell_type": "code",
   "execution_count": 7,
   "id": "da5b64c0",
   "metadata": {},
   "outputs": [],
   "source": [
    "in_unmapped = '../data/01_SS3_splitted_bams/placa_pepita/unmapped'\n",
    "out_unmapped = '../data/00_SS3_raw_data/placa_pepita/placa_pepita.filtered.tagged.unmapped.bam'"
   ]
  },
  {
   "cell_type": "code",
   "execution_count": 8,
   "id": "d0cc3e2d",
   "metadata": {},
   "outputs": [
    {
     "data": {
      "text/plain": [
       "['../data/01_SS3_splitted_bams/placa_pepita/unmapped/Plate231_MUSL_A5.bam',\n",
       " '../data/01_SS3_splitted_bams/placa_pepita/unmapped/Plate231_MUSL_A3.bam',\n",
       " '../data/01_SS3_splitted_bams/placa_pepita/unmapped/Plate231_MUSL_A6.bam',\n",
       " '../data/01_SS3_splitted_bams/placa_pepita/unmapped/Plate231_MUSL_A4.bam',\n",
       " '../data/01_SS3_splitted_bams/placa_pepita/unmapped/Plate231_MUSL_A9.bam',\n",
       " '../data/01_SS3_splitted_bams/placa_pepita/unmapped/Plate231_MUSL_A8.bam',\n",
       " '../data/01_SS3_splitted_bams/placa_pepita/unmapped/Plate231_MUSL_A7.bam']"
      ]
     },
     "execution_count": 8,
     "metadata": {},
     "output_type": "execute_result"
    }
   ],
   "source": [
    "bams_unmapped = [os.path.join(in_unmapped,file) for file in os.listdir(in_unmapped)]\n",
    "bams_unmapped"
   ]
  },
  {
   "cell_type": "code",
   "execution_count": 9,
   "id": "711a5a58",
   "metadata": {},
   "outputs": [
    {
     "name": "stderr",
     "output_type": "stream",
     "text": [
      "[E::idx_find_and_load] Could not retrieve index file for '../data/01_SS3_splitted_bams/placa_pepita/unmapped/Plate231_MUSL_A5.bam'\n"
     ]
    }
   ],
   "source": [
    "unmapped_output = pysam.AlignmentFile(out_unmapped, 'wb',\\\n",
    "                                      template=pysam.AlignmentFile(bams_unmapped[0],\\\n",
    "                                                                   check_sq=False))"
   ]
  },
  {
   "cell_type": "code",
   "execution_count": 10,
   "id": "1881d3b4",
   "metadata": {},
   "outputs": [
    {
     "name": "stderr",
     "output_type": "stream",
     "text": [
      "[E::idx_find_and_load] Could not retrieve index file for '../data/01_SS3_splitted_bams/placa_pepita/unmapped/Plate231_MUSL_A5.bam'\n",
      "[E::idx_find_and_load] Could not retrieve index file for '../data/01_SS3_splitted_bams/placa_pepita/unmapped/Plate231_MUSL_A3.bam'\n",
      "[E::idx_find_and_load] Could not retrieve index file for '../data/01_SS3_splitted_bams/placa_pepita/unmapped/Plate231_MUSL_A6.bam'\n",
      "[E::idx_find_and_load] Could not retrieve index file for '../data/01_SS3_splitted_bams/placa_pepita/unmapped/Plate231_MUSL_A4.bam'\n",
      "[E::idx_find_and_load] Could not retrieve index file for '../data/01_SS3_splitted_bams/placa_pepita/unmapped/Plate231_MUSL_A9.bam'\n",
      "[E::idx_find_and_load] Could not retrieve index file for '../data/01_SS3_splitted_bams/placa_pepita/unmapped/Plate231_MUSL_A8.bam'\n",
      "[E::idx_find_and_load] Could not retrieve index file for '../data/01_SS3_splitted_bams/placa_pepita/unmapped/Plate231_MUSL_A7.bam'\n"
     ]
    }
   ],
   "source": [
    "for bam_file in bams_unmapped:\n",
    "    for read in pysam.AlignmentFile(bam_file,check_sq=False):\n",
    "        unmapped_output.write(read)"
   ]
  },
  {
   "cell_type": "code",
   "execution_count": 11,
   "id": "d15e699f",
   "metadata": {},
   "outputs": [],
   "source": [
    "unmapped_output.close()"
   ]
  },
  {
   "cell_type": "code",
   "execution_count": null,
   "id": "eb2c46aa",
   "metadata": {},
   "outputs": [],
   "source": []
  },
  {
   "cell_type": "code",
   "execution_count": null,
   "id": "27082ab9",
   "metadata": {},
   "outputs": [],
   "source": []
  }
 ],
 "metadata": {
  "kernelspec": {
   "display_name": "TCR_python",
   "language": "python",
   "name": "tcr_python"
  },
  "language_info": {
   "codemirror_mode": {
    "name": "ipython",
    "version": 3
   },
   "file_extension": ".py",
   "mimetype": "text/x-python",
   "name": "python",
   "nbconvert_exporter": "python",
   "pygments_lexer": "ipython3",
   "version": "3.7.12"
  }
 },
 "nbformat": 4,
 "nbformat_minor": 5
}
