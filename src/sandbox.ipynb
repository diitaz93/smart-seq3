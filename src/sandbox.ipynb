{
 "cells": [
  {
   "cell_type": "markdown",
   "id": "cb63fbac",
   "metadata": {},
   "source": [
    "# pysam sandbox"
   ]
  },
  {
   "cell_type": "code",
   "execution_count": 2,
   "id": "faf0cce3",
   "metadata": {},
   "outputs": [],
   "source": [
    "import pandas as pd\n",
    "import pysam"
   ]
  },
  {
   "cell_type": "code",
   "execution_count": 3,
   "id": "c376f7ab",
   "metadata": {},
   "outputs": [],
   "source": [
    "bam_in = 'results/SS3_21_231_Aligned/cell1.bam'"
   ]
  },
  {
   "cell_type": "code",
   "execution_count": 4,
   "id": "4956e388",
   "metadata": {},
   "outputs": [
    {
     "name": "stderr",
     "output_type": "stream",
     "text": [
      "[E::idx_find_and_load] Could not retrieve index file for 'results/SS3_21_231_Aligned/cell1.bam'\n"
     ]
    }
   ],
   "source": [
    "bam = pysam.AlignmentFile(bam_in, \"rb\")"
   ]
  },
  {
   "cell_type": "code",
   "execution_count": 5,
   "id": "68149d91",
   "metadata": {},
   "outputs": [
    {
     "data": {
      "text/plain": [
       "<pysam.libcalignmentfile.AlignmentFile at 0x7f31a8358a60>"
      ]
     },
     "execution_count": 5,
     "metadata": {},
     "output_type": "execute_result"
    }
   ],
   "source": [
    "bam"
   ]
  },
  {
   "cell_type": "code",
   "execution_count": 6,
   "id": "ea833881",
   "metadata": {},
   "outputs": [],
   "source": [
    "it = bam.fetch(until_eof=True)"
   ]
  },
  {
   "cell_type": "code",
   "execution_count": 8,
   "id": "11bdf1aa",
   "metadata": {},
   "outputs": [
    {
     "name": "stdout",
     "output_type": "stream",
     "text": [
      "A00621:611:HTCFGDRXY:1:1246:18114:29042\t163\t#1\t171517254\t255\t117M1S\t#1\t171517676\t485\tTTTATTAGCTGAGCCATTACTTGAGAGGGATGAAGCGGGAGGAGTGGGTGGCCCCGATGCCGGGCCGGCCATGCTTTACGGGCTTGTAGGTGATGGAGAACTCGCCCAGGTAGTGGCC\tarray('B', [37, 37, 37, 37, 37, 37, 37, 37, 37, 37, 37, 25, 37, 37, 37, 37, 37, 37, 37, 37, 37, 37, 37, 37, 37, 37, 37, 37, 37, 37, 37, 37, 37, 37, 37, 37, 37, 37, 37, 37, 37, 37, 37, 37, 37, 37, 37, 37, 37, 37, 37, 37, 37, 37, 37, 25, 25, 37, 37, 37, 37, 37, 37, 37, 37, 37, 37, 37, 37, 37, 37, 37, 37, 37, 37, 37, 37, 37, 37, 37, 37, 37, 37, 11, 37, 37, 37, 37, 37, 37, 37, 37, 37, 37, 37, 37, 37, 37, 37, 37, 37, 37, 37, 37, 37, 37, 37, 37, 37, 37, 37, 11, 37, 37, 37, 37, 37, 37])\t[('NH', 1), ('HI', 1), ('AS', 176), ('nM', 1), ('BX', 'TTATGGTGGTTTGAGAGACA'), ('BC', 'TTATGGTGGTTTGAGAGACA'), ('UB', 'CGCGGTGC'), ('QB', ',FFFFFFFFFFFFFFFFFFF'), ('QU', 'FFFFFFFF')]\n",
      "A00621:611:HTCFGDRXY:1:1246:18114:29042\t83\t#1\t171517676\t255\t63M\t#1\t171517254\t-485\tTTGCGGAAGGTCCGCTTCTTCTTCTGCTCTACTTCTGCCATCTTGCCGGATCCTCAGAAGAGC\tarray('B', [37, 37, 37, 37, 37, 37, 37, 37, 37, 37, 37, 37, 37, 37, 37, 37, 37, 37, 37, 37, 37, 37, 37, 37, 37, 37, 37, 37, 37, 37, 37, 37, 37, 37, 37, 37, 37, 37, 37, 37, 37, 37, 37, 37, 37, 37, 37, 37, 37, 37, 37, 37, 37, 37, 37, 37, 37, 37, 37, 37, 37, 37, 37])\t[('NH', 1), ('HI', 1), ('AS', 176), ('nM', 1), ('BX', 'TTATGGTGGTTTGAGAGACA'), ('BC', 'TTATGGTGGTTTGAGAGACA'), ('UB', 'CGCGGTGC'), ('QB', ',FFFFFFFFFFFFFFFFFFF'), ('QU', 'FFFFFFFF')]\n",
      "A00621:611:HTCFGDRXY:1:1246:20844:29042\t99\t#14\t44717788\t255\t4M52N59M\t#14\t44717891\t221\tGCAGAGAATTCTCTTATCCAACATCAACATCTTGGTCAGATTTGAACTCTTCAATCTCTTGCA\tarray('B', [37, 37, 37, 37, 37, 37, 37, 37, 37, 37, 37, 37, 37, 37, 37, 37, 37, 37, 37, 37, 37, 37, 37, 37, 37, 37, 37, 37, 37, 37, 37, 37, 37, 37, 37, 37, 37, 37, 37, 37, 37, 37, 37, 37, 37, 37, 37, 37, 37, 37, 37, 37, 37, 37, 37, 37, 37, 37, 37, 37, 37, 37, 37])\t[('NH', 1), ('HI', 1), ('AS', 181), ('nM', 0), ('BX', 'TTATGGTGGTTTGAGAGACA'), ('BC', 'TTATGGTGGTTTGAGAGACA'), ('UB', 'AGAGGTGG'), ('QB', ',FFFFFFFFFFFFFFFFFFF'), ('QU', 'FFFFFFFF')]\n"
     ]
    }
   ],
   "source": [
    "cont = 0\n",
    "for alg in it:\n",
    "    if cont>2:break\n",
    "    print(alg)\n",
    "    cont = cont +1"
   ]
  },
  {
   "cell_type": "code",
   "execution_count": null,
   "id": "e891669c",
   "metadata": {},
   "outputs": [],
   "source": []
  }
 ],
 "metadata": {
  "kernelspec": {
   "display_name": "Python 3 (ipykernel)",
   "language": "python",
   "name": "python3"
  },
  "language_info": {
   "codemirror_mode": {
    "name": "ipython",
    "version": 3
   },
   "file_extension": ".py",
   "mimetype": "text/x-python",
   "name": "python",
   "nbconvert_exporter": "python",
   "pygments_lexer": "ipython3",
   "version": "3.8.10"
  }
 },
 "nbformat": 4,
 "nbformat_minor": 5
}
